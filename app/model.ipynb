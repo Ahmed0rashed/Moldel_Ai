{
 "cells": [
  {
   "cell_type": "code",
   "execution_count": null,
   "metadata": {},
   "outputs": [
    {
     "name": "stdout",
     "output_type": "stream",
     "text": [
      "Model Accuracy: 0.9474\n",
      "\n",
      "Classification Report:\n",
      "                            precision    recall  f1-score   support\n",
      "\n",
      "      Abdominal Radiology       1.00      1.00      1.00        11\n",
      " Cardiovascular Radiology       1.00      1.00      1.00         4\n",
      "          Chest Radiology       0.00      0.00      0.00         2\n",
      "  Head and Neck Radiology       1.00      1.00      1.00         4\n",
      "Musculoskeletal Radiology       0.94      1.00      0.97        17\n",
      "           Neuroradiology       1.00      1.00      1.00        11\n",
      "       Thoracic Radiology       0.78      1.00      0.88         7\n",
      "                specialty       0.00      0.00      0.00         1\n",
      "\n",
      "                 accuracy                           0.95        57\n",
      "                macro avg       0.72      0.75      0.73        57\n",
      "             weighted avg       0.90      0.95      0.92        57\n",
      "\n"
     ]
    },
    {
     "name": "stderr",
     "output_type": "stream",
     "text": [
      "[nltk_data] Downloading package stopwords to C:\\Users\\ahmed\n",
      "[nltk_data]     rashed/nltk_data...\n",
      "[nltk_data]   Package stopwords is already up-to-date!\n",
      "c:\\ProgramData\\anaconda3\\Lib\\site-packages\\sklearn\\metrics\\_classification.py:1509: UndefinedMetricWarning: Precision is ill-defined and being set to 0.0 in labels with no predicted samples. Use `zero_division` parameter to control this behavior.\n",
      "  _warn_prf(average, modifier, f\"{metric.capitalize()} is\", len(result))\n",
      "c:\\ProgramData\\anaconda3\\Lib\\site-packages\\sklearn\\metrics\\_classification.py:1509: UndefinedMetricWarning: Precision is ill-defined and being set to 0.0 in labels with no predicted samples. Use `zero_division` parameter to control this behavior.\n",
      "  _warn_prf(average, modifier, f\"{metric.capitalize()} is\", len(result))\n",
      "c:\\ProgramData\\anaconda3\\Lib\\site-packages\\sklearn\\metrics\\_classification.py:1509: UndefinedMetricWarning: Precision is ill-defined and being set to 0.0 in labels with no predicted samples. Use `zero_division` parameter to control this behavior.\n",
      "  _warn_prf(average, modifier, f\"{metric.capitalize()} is\", len(result))\n"
     ]
    }
   ],
   "source": [
    "import pandas as pd\n",
    "import numpy as np\n",
    "import nltk\n",
    "from sklearn.feature_extraction.text import TfidfVectorizer\n",
    "from sklearn.model_selection import train_test_split\n",
    "from sklearn.naive_bayes import MultinomialNB  \n",
    "from sklearn.metrics import accuracy_score, classification_report\n",
    "from nltk.corpus import stopwords\n",
    "\n",
    "url = r\"C:\\Users\\ahmed rashed\\Desktop\\-Graduation Project\\Radio1.csv\"\n",
    "df = pd.read_csv(url)\n",
    "\n",
    "\n",
    "nltk.download('stopwords')\n",
    "\n",
    "\n",
    "df['combined_text'] = df[['modality', 'body_part_examined', 'description']].astype(str).apply(' '.join, axis=1)\n",
    "\n",
    "tfidf = TfidfVectorizer(stop_words=stopwords.words('english'), max_features=5000)\n",
    "\n",
    "\n",
    "X = tfidf.fit_transform(df['combined_text'])\n",
    "y = df['specialty'] \n",
    "\n",
    "\n",
    "X_train, X_test, y_train, y_test = train_test_split(X, y, test_size=0.2, random_state=42, stratify=y)\n",
    "\n",
    "\n",
    "model = MultinomialNB()\n",
    "model.fit(X_train, y_train)\n",
    "\n",
    "\n",
    "y_pred = model.predict(X_test)\n",
    "\n",
    "\n",
    "accuracy = accuracy_score(y_test, y_pred)\n",
    "print(f\"Model Accuracy: {accuracy:.4f}\")\n",
    "print(\"\\nClassification Report:\\n\", classification_report(y_test, y_pred))\n"
   ]
  },
  {
   "cell_type": "code",
   "execution_count": null,
   "metadata": {},
   "outputs": [
    {
     "name": "stdout",
     "output_type": "stream",
     "text": [
      "Model Accuracy: 0.9474\n",
      "\n",
      "Classification Report:\n",
      "                            precision    recall  f1-score   support\n",
      "\n",
      "      Abdominal Radiology       1.00      1.00      1.00        11\n",
      " Cardiovascular Radiology       1.00      1.00      1.00         4\n",
      "          Chest Radiology       0.00      0.00      0.00         2\n",
      "  Head and Neck Radiology       1.00      1.00      1.00         4\n",
      "Musculoskeletal Radiology       0.94      1.00      0.97        17\n",
      "           Neuroradiology       1.00      1.00      1.00        11\n",
      "       Thoracic Radiology       0.78      1.00      0.88         7\n",
      "                specialty       0.00      0.00      0.00         1\n",
      "\n",
      "                 accuracy                           0.95        57\n",
      "                macro avg       0.72      0.75      0.73        57\n",
      "             weighted avg       0.90      0.95      0.92        57\n",
      "\n"
     ]
    },
    {
     "name": "stderr",
     "output_type": "stream",
     "text": [
      "c:\\ProgramData\\anaconda3\\Lib\\site-packages\\sklearn\\metrics\\_classification.py:1509: UndefinedMetricWarning: Precision is ill-defined and being set to 0.0 in labels with no predicted samples. Use `zero_division` parameter to control this behavior.\n",
      "  _warn_prf(average, modifier, f\"{metric.capitalize()} is\", len(result))\n",
      "c:\\ProgramData\\anaconda3\\Lib\\site-packages\\sklearn\\metrics\\_classification.py:1509: UndefinedMetricWarning: Precision is ill-defined and being set to 0.0 in labels with no predicted samples. Use `zero_division` parameter to control this behavior.\n",
      "  _warn_prf(average, modifier, f\"{metric.capitalize()} is\", len(result))\n",
      "c:\\ProgramData\\anaconda3\\Lib\\site-packages\\sklearn\\metrics\\_classification.py:1509: UndefinedMetricWarning: Precision is ill-defined and being set to 0.0 in labels with no predicted samples. Use `zero_division` parameter to control this behavior.\n",
      "  _warn_prf(average, modifier, f\"{metric.capitalize()} is\", len(result))\n"
     ]
    }
   ],
   "source": [
    "from sklearn.metrics import accuracy_score, classification_report\n",
    "\n",
    "\n",
    "y_pred = model.predict(X_test)\n",
    "\n",
    "\n",
    "accuracy = accuracy_score(y_test, y_pred)\n",
    "print(f\"Model Accuracy: {accuracy:.4f}\")\n",
    "print(\"\\nClassification Report:\\n\", classification_report(y_test, y_pred))\n"
   ]
  },
  {
   "cell_type": "code",
   "execution_count": null,
   "metadata": {},
   "outputs": [
    {
     "name": "stdout",
     "output_type": "stream",
     "text": [
      "Musculoskeletal Radiology\n"
     ]
    }
   ],
   "source": [
    "\n",
    "new_samples = [\n",
    "    {\"modality\": \"MR\", \"body_part_examined\": \"Spine\", \"description\": \"MRI of spine for disc herniation\"}\n",
    "]\n",
    "\n",
    "\n",
    "new_texts = [f\"{sample['modality']} {sample['body_part_examined']} {sample['description']}\" for sample in new_samples]\n",
    "\n",
    "\n",
    "new_texts_tfidf = tfidf.transform(new_texts)\n",
    "\n",
    "\n",
    "predictions = model.predict(new_texts_tfidf)\n",
    "\n",
    "\n",
    "for sample, pred in zip(new_samples, predictions):\n",
    "    print(pred)\n"
   ]
  },
  {
   "cell_type": "code",
   "execution_count": null,
   "metadata": {},
   "outputs": [
    {
     "data": {
      "text/plain": [
       "['tfidf_vectorizer.pkl']"
      ]
     },
     "execution_count": 5,
     "metadata": {},
     "output_type": "execute_result"
    }
   ],
   "source": [
    "import joblib\n",
    "\n",
    "\n",
    "joblib.dump(model, \"naive_bayes_model.pkl\")\n",
    "\n",
    "\n",
    "joblib.dump(tfidf, \"tfidf_vectorizer.pkl\")\n"
   ]
  },
  {
   "cell_type": "code",
   "execution_count": null,
   "metadata": {},
   "outputs": [],
   "source": []
  }
 ],
 "metadata": {
  "kernelspec": {
   "display_name": "base",
   "language": "python",
   "name": "python3"
  },
  "language_info": {
   "codemirror_mode": {
    "name": "ipython",
    "version": 3
   },
   "file_extension": ".py",
   "mimetype": "text/x-python",
   "name": "python",
   "nbconvert_exporter": "python",
   "pygments_lexer": "ipython3",
   "version": "3.12.4"
  }
 },
 "nbformat": 4,
 "nbformat_minor": 2
}
