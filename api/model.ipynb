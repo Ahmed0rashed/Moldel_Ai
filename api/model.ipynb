{
 "cells": [
  {
   "cell_type": "code",
   "execution_count": 1,
   "metadata": {},
   "outputs": [
    {
     "data": {
      "text/plain": [
       "14"
      ]
     },
     "execution_count": 1,
     "metadata": {},
     "output_type": "execute_result"
    }
   ],
   "source": [
    "7+7\n"
   ]
  },
  {
   "cell_type": "code",
   "execution_count": 2,
   "metadata": {},
   "outputs": [
    {
     "name": "stdout",
     "output_type": "stream",
     "text": [
      "Model Accuracy: 0.9474\n",
      "\n",
      "Classification Report:\n",
      "                            precision    recall  f1-score   support\n",
      "\n",
      "      Abdominal Radiology       1.00      1.00      1.00        11\n",
      " Cardiovascular Radiology       1.00      1.00      1.00         4\n",
      "          Chest Radiology       0.00      0.00      0.00         2\n",
      "  Head and Neck Radiology       1.00      1.00      1.00         4\n",
      "Musculoskeletal Radiology       0.94      1.00      0.97        17\n",
      "           Neuroradiology       1.00      1.00      1.00        11\n",
      "       Thoracic Radiology       0.78      1.00      0.88         7\n",
      "                specialty       0.00      0.00      0.00         1\n",
      "\n",
      "                 accuracy                           0.95        57\n",
      "                macro avg       0.72      0.75      0.73        57\n",
      "             weighted avg       0.90      0.95      0.92        57\n",
      "\n"
     ]
    },
    {
     "name": "stderr",
     "output_type": "stream",
     "text": [
      "[nltk_data] Downloading package stopwords to C:\\Users\\ahmed\n",
      "[nltk_data]     rashed/nltk_data...\n",
      "[nltk_data]   Package stopwords is already up-to-date!\n",
      "c:\\ProgramData\\anaconda3\\Lib\\site-packages\\sklearn\\metrics\\_classification.py:1509: UndefinedMetricWarning: Precision is ill-defined and being set to 0.0 in labels with no predicted samples. Use `zero_division` parameter to control this behavior.\n",
      "  _warn_prf(average, modifier, f\"{metric.capitalize()} is\", len(result))\n",
      "c:\\ProgramData\\anaconda3\\Lib\\site-packages\\sklearn\\metrics\\_classification.py:1509: UndefinedMetricWarning: Precision is ill-defined and being set to 0.0 in labels with no predicted samples. Use `zero_division` parameter to control this behavior.\n",
      "  _warn_prf(average, modifier, f\"{metric.capitalize()} is\", len(result))\n",
      "c:\\ProgramData\\anaconda3\\Lib\\site-packages\\sklearn\\metrics\\_classification.py:1509: UndefinedMetricWarning: Precision is ill-defined and being set to 0.0 in labels with no predicted samples. Use `zero_division` parameter to control this behavior.\n",
      "  _warn_prf(average, modifier, f\"{metric.capitalize()} is\", len(result))\n"
     ]
    }
   ],
   "source": [
    "import pandas as pd\n",
    "import numpy as np\n",
    "import nltk\n",
    "from sklearn.feature_extraction.text import TfidfVectorizer\n",
    "from sklearn.model_selection import train_test_split\n",
    "from sklearn.naive_bayes import MultinomialNB  # Example model\n",
    "from sklearn.metrics import accuracy_score, classification_report\n",
    "from nltk.corpus import stopwords\n",
    "\n",
    "url = r\"C:\\Users\\ahmed rashed\\Desktop\\-Graduation Project\\Radio1.csv\"\n",
    "df = pd.read_csv(url)\n",
    "\n",
    "\n",
    "\n",
    "# Ensure stopwords are downloaded\n",
    "nltk.download('stopwords')\n",
    "\n",
    "# Sample Data (Replace with your actual DataFrame)\n",
    "# df = pd.read_csv(\"your_data.csv\")  # Uncomment if loading from a CSV\n",
    "\n",
    "# Combine text columns into a single string per row\n",
    "df['combined_text'] = df[['modality', 'body_part_examined', 'description']].astype(str).apply(' '.join, axis=1)\n",
    "\n",
    "# Initialize TF-IDF vectorizer\n",
    "tfidf = TfidfVectorizer(stop_words=stopwords.words('english'), max_features=5000)\n",
    "\n",
    "# Transform the combined text into numerical features\n",
    "X = tfidf.fit_transform(df['combined_text'])\n",
    "y = df['specialty']  # Target variable\n",
    "\n",
    "# Split dataset into training (80%) and testing (20%)\n",
    "X_train, X_test, y_train, y_test = train_test_split(X, y, test_size=0.2, random_state=42, stratify=y)\n",
    "\n",
    "# Train a Naive Bayes classifier (you can replace this with another model)\n",
    "model = MultinomialNB()\n",
    "model.fit(X_train, y_train)\n",
    "\n",
    "# Make predictions\n",
    "y_pred = model.predict(X_test)\n",
    "\n",
    "# Evaluate the model\n",
    "accuracy = accuracy_score(y_test, y_pred)\n",
    "print(f\"Model Accuracy: {accuracy:.4f}\")\n",
    "print(\"\\nClassification Report:\\n\", classification_report(y_test, y_pred))\n"
   ]
  },
  {
   "cell_type": "code",
   "execution_count": 3,
   "metadata": {},
   "outputs": [
    {
     "name": "stdout",
     "output_type": "stream",
     "text": [
      "Model Accuracy: 0.9474\n",
      "\n",
      "Classification Report:\n",
      "                            precision    recall  f1-score   support\n",
      "\n",
      "      Abdominal Radiology       1.00      1.00      1.00        11\n",
      " Cardiovascular Radiology       1.00      1.00      1.00         4\n",
      "          Chest Radiology       0.00      0.00      0.00         2\n",
      "  Head and Neck Radiology       1.00      1.00      1.00         4\n",
      "Musculoskeletal Radiology       0.94      1.00      0.97        17\n",
      "           Neuroradiology       1.00      1.00      1.00        11\n",
      "       Thoracic Radiology       0.78      1.00      0.88         7\n",
      "                specialty       0.00      0.00      0.00         1\n",
      "\n",
      "                 accuracy                           0.95        57\n",
      "                macro avg       0.72      0.75      0.73        57\n",
      "             weighted avg       0.90      0.95      0.92        57\n",
      "\n"
     ]
    },
    {
     "name": "stderr",
     "output_type": "stream",
     "text": [
      "c:\\ProgramData\\anaconda3\\Lib\\site-packages\\sklearn\\metrics\\_classification.py:1509: UndefinedMetricWarning: Precision is ill-defined and being set to 0.0 in labels with no predicted samples. Use `zero_division` parameter to control this behavior.\n",
      "  _warn_prf(average, modifier, f\"{metric.capitalize()} is\", len(result))\n",
      "c:\\ProgramData\\anaconda3\\Lib\\site-packages\\sklearn\\metrics\\_classification.py:1509: UndefinedMetricWarning: Precision is ill-defined and being set to 0.0 in labels with no predicted samples. Use `zero_division` parameter to control this behavior.\n",
      "  _warn_prf(average, modifier, f\"{metric.capitalize()} is\", len(result))\n",
      "c:\\ProgramData\\anaconda3\\Lib\\site-packages\\sklearn\\metrics\\_classification.py:1509: UndefinedMetricWarning: Precision is ill-defined and being set to 0.0 in labels with no predicted samples. Use `zero_division` parameter to control this behavior.\n",
      "  _warn_prf(average, modifier, f\"{metric.capitalize()} is\", len(result))\n"
     ]
    }
   ],
   "source": [
    "from sklearn.metrics import accuracy_score, classification_report\n",
    "\n",
    "# Make predictions on the test set\n",
    "y_pred = model.predict(X_test)\n",
    "\n",
    "# Evaluate accuracy and detailed classification report\n",
    "accuracy = accuracy_score(y_test, y_pred)\n",
    "print(f\"Model Accuracy: {accuracy:.4f}\")\n",
    "print(\"\\nClassification Report:\\n\", classification_report(y_test, y_pred))\n"
   ]
  },
  {
   "cell_type": "code",
   "execution_count": 4,
   "metadata": {},
   "outputs": [
    {
     "name": "stdout",
     "output_type": "stream",
     "text": [
      "Musculoskeletal Radiology\n"
     ]
    }
   ],
   "source": [
    "# Define new test samples with three inputs\n",
    "new_samples = [\n",
    "    {\"modality\": \"MR\", \"body_part_examined\": \"Spine\", \"description\": \"MRI of spine for disc herniation\"}\n",
    "]\n",
    "\n",
    "# Combine text fields into a single string per sample\n",
    "new_texts = [f\"{sample['modality']} {sample['body_part_examined']} {sample['description']}\" for sample in new_samples]\n",
    "\n",
    "# Transform input text using the same TF-IDF vectorizer\n",
    "new_texts_tfidf = tfidf.transform(new_texts)\n",
    "\n",
    "# Predict the medical specialty\n",
    "predictions = model.predict(new_texts_tfidf)\n",
    "\n",
    "# Display predictions\n",
    "for sample, pred in zip(new_samples, predictions):\n",
    "    print(pred)\n"
   ]
  },
  {
   "cell_type": "code",
   "execution_count": 5,
   "metadata": {},
   "outputs": [
    {
     "data": {
      "text/plain": [
       "['tfidf_vectorizer.pkl']"
      ]
     },
     "execution_count": 5,
     "metadata": {},
     "output_type": "execute_result"
    }
   ],
   "source": [
    "import joblib\n",
    "\n",
    "# حفظ النموذج\n",
    "joblib.dump(model, \"naive_bayes_model.pkl\")\n",
    "\n",
    "# حفظ الـ TF-IDF Vectorizer أيضًا لاستخدامه لاحقًا\n",
    "joblib.dump(tfidf, \"tfidf_vectorizer.pkl\")\n"
   ]
  },
  {
   "cell_type": "code",
   "execution_count": null,
   "metadata": {},
   "outputs": [],
   "source": []
  }
 ],
 "metadata": {
  "kernelspec": {
   "display_name": "base",
   "language": "python",
   "name": "python3"
  },
  "language_info": {
   "codemirror_mode": {
    "name": "ipython",
    "version": 3
   },
   "file_extension": ".py",
   "mimetype": "text/x-python",
   "name": "python",
   "nbconvert_exporter": "python",
   "pygments_lexer": "ipython3",
   "version": "3.12.4"
  }
 },
 "nbformat": 4,
 "nbformat_minor": 2
}
